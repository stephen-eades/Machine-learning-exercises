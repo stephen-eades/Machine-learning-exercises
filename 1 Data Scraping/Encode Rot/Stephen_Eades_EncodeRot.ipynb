{
 "cells": [
  {
   "cell_type": "code",
   "execution_count": 1,
   "metadata": {
    "scrolled": true
   },
   "outputs": [
    {
     "name": "stdout",
     "output_type": "stream",
     "text": [
      "Ocejkpg ECP ngctp 2 !!!\n"
     ]
    }
   ],
   "source": [
    "def encode_rot(text, key):\n",
    "    abc = 'ABCDEFGHIJKLMNOPQRSTUVWXYZabcdefghijklmnopqrstuvwxyz'\n",
    "    secret = ''\n",
    "    \n",
    "    for c in text:\n",
    "        if str.isalpha(c) is False:\n",
    "            # do not encode non-letters\n",
    "            secret += c\n",
    "        else: \n",
    "            # encode since it is a letter\n",
    "            index = (abc.find(c)+key)%52\n",
    "            # swap upper to lower case and vice-versa\n",
    "            secret += abc[index].swapcase()\n",
    "        \n",
    "    print(secret)  \n",
    "    \n",
    "clear_text = 'Machine CAN learn 2 !!!'\n",
    "\n",
    "encode_rot(clear_text, 28) "
   ]
  },
  {
   "cell_type": "code",
   "execution_count": 2,
   "metadata": {
    "scrolled": true
   },
   "outputs": [],
   "source": [
    "import string\n",
    "\n",
    "def decode_rot(cipher):\n",
    "    \n",
    "    # Variables\n",
    "    dictionary = []\n",
    "    index = 0\n",
    "    lower = string.ascii_lowercase\n",
    "    upper = string.ascii_uppercase\n",
    "    alphabet = lower + upper\n",
    "    found_key = None\n",
    "    \n",
    "    # Store all words from dictionary in an array\n",
    "    with open('dictionary.txt') as file:\n",
    "        \n",
    "        # Set to lowercase and strip as we append them\n",
    "        for line in file:\n",
    "            entry = line.rstrip().lower()\n",
    "            dictionary.append(entry)\n",
    "    \n",
    "    # Break cipher text on spaces into an array of words\n",
    "    words = cipher.split()\n",
    "    \n",
    "    # Continue checking until we find the key or run out of words\n",
    "    while found_key == None and index < len(words):\n",
    "        word = words[index]\n",
    "        index += 1\n",
    "        \n",
    "        # For the 26 possibilities\n",
    "        for key in range (1, 26):\n",
    "            # Create upper and lower case alphabet, shifting each loop\n",
    "            shifted_lower = lower[key:] + lower[:key]\n",
    "            shifted_upper = upper[key:] + upper[:key]\n",
    "            shifted_alphabet = shifted_lower + shifted_upper\n",
    "\n",
    "            table = str.maketrans(shifted_alphabet, alphabet)\n",
    "            \n",
    "            # If we find the word, set found_key and break the loop\n",
    "            if word.translate(table).lower() in dictionary:\n",
    "                found_key = key\n",
    "                break\n",
    "                \n",
    "    # Create upper and lower case alphabet using the correct key           \n",
    "    shifted_lower = lower[found_key:] + lower[:found_key]\n",
    "    shifted_upper = upper[found_key:] + upper[:found_key]\n",
    "    shifted_alphabet = shifted_lower + shifted_upper\n",
    "    \n",
    "    # Create translation table with the shifted and non-shifted alphabet\n",
    "    table = str.maketrans(shifted_alphabet, alphabet)\n",
    "    \n",
    "    # Get the plaintext using the translation table\n",
    "    plaintext = cipher.translate(table)\n",
    "    \n",
    "    return plaintext + f'The key is: {str(found_key)}'"
   ]
  },
  {
   "cell_type": "code",
   "execution_count": 3,
   "metadata": {},
   "outputs": [
    {
     "data": {
      "text/plain": [
       "'Data is like people, interrogate it hard enough and it will tell you whatever you want to hear.The key is: 16'"
      ]
     },
     "execution_count": 3,
     "metadata": {},
     "output_type": "execute_result"
    }
   ],
   "source": [
    "decode_rot('Tqjq yi byau fuefbu, ydjuhhewqju yj xqht udekwx qdt yj mybb jubb oek mxqjuluh oek mqdj je xuqh.')"
   ]
  }
 ],
 "metadata": {
  "kernelspec": {
   "display_name": "Python 3",
   "language": "python",
   "name": "python3"
  },
  "language_info": {
   "codemirror_mode": {
    "name": "ipython",
    "version": 3
   },
   "file_extension": ".py",
   "mimetype": "text/x-python",
   "name": "python",
   "nbconvert_exporter": "python",
   "pygments_lexer": "ipython3",
   "version": "3.7.6"
  }
 },
 "nbformat": 4,
 "nbformat_minor": 4
}
