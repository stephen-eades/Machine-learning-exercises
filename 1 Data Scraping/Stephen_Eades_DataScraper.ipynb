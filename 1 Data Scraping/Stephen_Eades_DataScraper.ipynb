{
 "cells": [
  {
   "cell_type": "code",
   "execution_count": 1,
   "metadata": {},
   "outputs": [],
   "source": [
    "# Module 4 \n",
    "from bs4 import BeautifulSoup\n",
    "import requests as requests\n",
    "\n",
    "# Reference: https://docs.python.org/2/library/datetime.html  \n",
    "from datetime import datetime as dt\n",
    "\n",
    "# Webpage that we will scrape\n",
    "# https://nvd.nist.gov/vuln/search "
   ]
  },
  {
   "cell_type": "code",
   "execution_count": 2,
   "metadata": {
    "scrolled": true
   },
   "outputs": [
    {
     "name": "stdout",
     "output_type": "stream",
     "text": [
      "enter a search term: python\n",
      "enter a minimum severity (1-10): 8.5\n",
      "enter a start date (MM-DD-YYYY): 10-13-2012\n",
      "enter an end date (MM-DD-YYYY): 11-30-2015\n"
     ]
    }
   ],
   "source": [
    "# Ask user to input a search term, e.g. \"splunk\"\n",
    "search_term = input('enter a search term: ')\n",
    "\n",
    "# Ask user to type in a minimum severity , e.g. \"7.4\"\n",
    "min_severity = input('enter a minimum severity (1-10): ')\n",
    "\n",
    "# Ask user to type in a start date in a predefined format, e.g. \"10-02-2017\"\n",
    "start_date = input('enter a start date (MM-DD-YYYY): ')\n",
    "\n",
    "# Ask user to type in an end date in a predefined format, e.g. \"12-31-2018\"\n",
    "end_date = input('enter an end date (MM-DD-YYYY): ')"
   ]
  },
  {
   "cell_type": "code",
   "execution_count": 3,
   "metadata": {},
   "outputs": [],
   "source": [
    "# Explore the result based on the query (v2)\n",
    "pub_start_date = start_date.replace(\"-\",\"%2F\") # 10-13-2012 10%2F13%2F2012\n",
    "pub_end_date = end_date.replace(\"-\",\"%2F\") # 11-30-2015 11%2F30%2F2015\n",
    "url = 'https://nvd.nist.gov/vuln/search/results?form_type=Advanced&results_type=overview&query='+search_term+'&search_type=all&cvss_version=2&pub_start_date='+pub_start_date+'&pub_end_date='+pub_end_date+'&startIndex=0'\n",
    "\n",
    "# Request content from web page\n",
    "response = requests.get(url)\n",
    "content = response.content\n",
    "\n",
    "soup = BeautifulSoup(content, 'lxml')\n",
    "\n",
    "\n",
    "# Observe the content of soup \n",
    "# print(soup)"
   ]
  },
  {
   "cell_type": "code",
   "execution_count": 4,
   "metadata": {},
   "outputs": [
    {
     "name": "stdout",
     "output_type": "stream",
     "text": [
      "The total number of results returned were \"93\". There are \"5\" pages.\n"
     ]
    }
   ],
   "source": [
    "import math\n",
    "\n",
    "# Find the total number of results \n",
    "total = soup.find('strong', {\"data-testid\": \"vuln-matching-records-count\"})\n",
    "total = int(total.text)\n",
    "\n",
    "# Find the number of pages (20 results per page)\n",
    "pages = math.ceil(int(total) / 20)\n",
    "\n",
    "print(f'The total number of results returned were \"{total}\". There are \"{pages}\" pages.')\n"
   ]
  },
  {
   "cell_type": "code",
   "execution_count": 5,
   "metadata": {},
   "outputs": [],
   "source": [
    "# Create lists to store results from query\n",
    "\n",
    "#vulnerability IDs\n",
    "vul_IDs =[]\n",
    "\n",
    "#vulnerability summaries\n",
    "summaries=[]\n",
    "\n",
    "#severity levels\n",
    "severities = []\n",
    "\n",
    "#publish dates \n",
    "publish_dates = []\n",
    "\n",
    "#the urls of individual vulnerbility description pages\n",
    "#we don't see them from the survey page yet\n",
    "urls = []"
   ]
  },
  {
   "cell_type": "code",
   "execution_count": 6,
   "metadata": {},
   "outputs": [
    {
     "name": "stdout",
     "output_type": "stream",
     "text": [
      "We are on page #1.\n",
      "https://nvd.nist.gov/vuln/search/results?form_type=Advanced&results_type=overview&query=python&search_type=all&cvss_version=2&pub_start_date=10%2f13%2f2012&pub_end_date=11%2f30%2f2015&startIndex=0\n",
      "We are on page #2.\n",
      "https://nvd.nist.gov/vuln/search/results?form_type=Advanced&results_type=overview&query=python&search_type=all&cvss_version=2&pub_start_date=10%2f13%2f2012&pub_end_date=11%2f30%2f2015&startIndex=20\n",
      "We are on page #3.\n",
      "https://nvd.nist.gov/vuln/search/results?form_type=Advanced&results_type=overview&query=python&search_type=all&cvss_version=2&pub_start_date=10%2f13%2f2012&pub_end_date=11%2f30%2f2015&startIndex=40\n",
      "We are on page #4.\n",
      "https://nvd.nist.gov/vuln/search/results?form_type=Advanced&results_type=overview&query=python&search_type=all&cvss_version=2&pub_start_date=10%2f13%2f2012&pub_end_date=11%2f30%2f2015&startIndex=60\n",
      "We are on page #5.\n",
      "https://nvd.nist.gov/vuln/search/results?form_type=Advanced&results_type=overview&query=python&search_type=all&cvss_version=2&pub_start_date=10%2f13%2f2012&pub_end_date=11%2f30%2f2015&startIndex=80\n"
     ]
    }
   ],
   "source": [
    "for page in range(pages):\n",
    "    \n",
    "    # Find the query for the page\n",
    "    url_prefix = \"https://nvd.nist.gov\" \n",
    "    url = str(soup.find(action=True)).replace('<form action=\"', \"\").split('\" id=', 1)[0].replace(\"&amp;\", \"&\")\n",
    "    \n",
    "    # Calculate the appropriate index for the page\n",
    "    index = page * 20\n",
    "    url = url.split(\"Index=\")[0]\n",
    "    url = url + f'Index={index}'\n",
    "    url = url_prefix + url\n",
    "    \n",
    "    # Output the page and url query for the page\n",
    "    print(f'We are on page #{page+1}.')\n",
    "    print(url)\n",
    "    \n",
    "    # Get the response, content and soup for the page\n",
    "    response = requests.get(url)\n",
    "    content = response.content\n",
    "    soup = BeautifulSoup(content, 'lxml')\n",
    "\n",
    "    # Find the table on the page and then get the rows\n",
    "    table = soup.find('table', {\"data-testid\": \"vuln-results-table\"})\n",
    "    rows = table.findAll('tr')\n",
    "\n",
    "    #in each row\n",
    "    for tr in rows[1:]: #from 2nd row\n",
    "        \n",
    "        # Check severity and only store for those that have high enough\n",
    "        severityRows = tr.find(\"td\", {\"nowrap\":\"nowrap\"}).findAll(\"span\")\n",
    "        for severity in severityRows:\n",
    "            if(\"V2\" in severity.text):\n",
    "                sev = float(severity.text.split(\" \")[1])\n",
    "            else: sev = 10.0\n",
    "                \n",
    "        # Store the severity\n",
    "        if sev >= float(min_severity):\n",
    "            severities.append(sev)\n",
    "                \n",
    "            # Store the url and Vul_ID\n",
    "            url_row = tr.find(\"th\", {\"nowrap\":\"nowrap\"}).findAll(\"a\")\n",
    "            for row in url_row:\n",
    "                url = row[\"href\"]\n",
    "                urls.append(url_prefix + url)\n",
    "                vul_IDs.append(row.text)\n",
    "                \n",
    "            # Get the summary\n",
    "            summary_row = tr.find(\"td\").findAll(\"p\")\n",
    "            for row in summary_row:\n",
    "                summaries.append(row.text)\n",
    "            \n",
    "            # Store publish date\n",
    "            date_row = tr.find(\"td\").findAll(\"span\")\n",
    "            for row in date_row:\n",
    "                date = row.text.split(\"-0\")[0]\n",
    "                publish_dates.append(date)"
   ]
  },
  {
   "cell_type": "code",
   "execution_count": 17,
   "metadata": {},
   "outputs": [
    {
     "name": "stdout",
     "output_type": "stream",
     "text": [
      "No. 1\n",
      "Vul_ID: CVE-2015-7828\n",
      "Severity: 10.0\n",
      "Publish Date: November 10, 2015; 12:59:05 PM \n",
      "For more information, visit: https://nvd.nist.gov/vuln/detail/CVE-2015-7828\n",
      "----------------------------------------------------------\n",
      "No. 2\n",
      "Vul_ID: CVE-2014-2331\n",
      "Severity: 8.5\n",
      "Publish Date: August 31, 2015; 02:59:03 PM \n",
      "For more information, visit: https://nvd.nist.gov/vuln/detail/CVE-2014-2331\n",
      "----------------------------------------------------------\n",
      "No. 3\n",
      "Vul_ID: CVE-2015-3446\n",
      "Severity: 9.3\n",
      "Publish Date: May 01, 2015; 11:59:08 AM \n",
      "For more information, visit: https://nvd.nist.gov/vuln/detail/CVE-2015-3446\n",
      "----------------------------------------------------------\n",
      "No. 4\n",
      "Vul_ID: CVE-2014-8165\n",
      "Severity: 10.0\n",
      "Publish Date: February 19, 2015; 10:59:05 AM \n",
      "For more information, visit: https://nvd.nist.gov/vuln/detail/CVE-2014-8165\n",
      "----------------------------------------------------------\n",
      "No. 5\n",
      "Vul_ID: CVE-2012-5493\n",
      "Severity: 8.5\n",
      "Publish Date: September 30, 2014; 10:55:06 AM \n",
      "For more information, visit: https://nvd.nist.gov/vuln/detail/CVE-2012-5493\n",
      "----------------------------------------------------------\n",
      "No. 6\n",
      "Vul_ID: CVE-2012-5487\n",
      "Severity: 8.5\n",
      "Publish Date: September 30, 2014; 10:55:05 AM \n",
      "For more information, visit: https://nvd.nist.gov/vuln/detail/CVE-2012-5487\n",
      "----------------------------------------------------------\n",
      "No. 7\n",
      "Vul_ID: CVE-2014-5340\n",
      "Severity: 9.3\n",
      "Publish Date: September 02, 2014; 10:55:03 AM \n",
      "For more information, visit: https://nvd.nist.gov/vuln/detail/CVE-2014-5340\n",
      "----------------------------------------------------------\n",
      "No. 8\n",
      "Vul_ID: CVE-2014-2967\n",
      "Severity: 10.0\n",
      "Publish Date: July 07, 2014; 07:01:29 AM \n",
      "For more information, visit: https://nvd.nist.gov/vuln/detail/CVE-2014-2967\n",
      "----------------------------------------------------------\n",
      "No. 9\n",
      "Vul_ID: CVE-2014-3007\n",
      "Severity: 10.0\n",
      "Publish Date: April 27, 2014; 04:55:23 PM \n",
      "For more information, visit: https://nvd.nist.gov/vuln/detail/CVE-2014-3007\n",
      "----------------------------------------------------------\n"
     ]
    }
   ],
   "source": [
    "for index,item in enumerate(vul_IDs):\n",
    "    print(f'No. {index+1}')\n",
    "    print(f'Vul_ID: {item}')\n",
    "    print(f'Severity: {severities[index]}')\n",
    "    print(f'Publish Date: {publish_dates[index]}')\n",
    "    print(f'For more information, visit: {urls[index]}')\n",
    "    print(\"----------------------------------------------------------\")"
   ]
  },
  {
   "cell_type": "code",
   "execution_count": null,
   "metadata": {},
   "outputs": [],
   "source": []
  }
 ],
 "metadata": {
  "kernelspec": {
   "display_name": "Python 3",
   "language": "python",
   "name": "python3"
  },
  "language_info": {
   "codemirror_mode": {
    "name": "ipython",
    "version": 3
   },
   "file_extension": ".py",
   "mimetype": "text/x-python",
   "name": "python",
   "nbconvert_exporter": "python",
   "pygments_lexer": "ipython3",
   "version": "3.7.6"
  }
 },
 "nbformat": 4,
 "nbformat_minor": 4
}
