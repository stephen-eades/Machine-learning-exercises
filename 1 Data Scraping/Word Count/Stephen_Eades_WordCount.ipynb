{
 "cells": [
  {
   "cell_type": "code",
   "execution_count": 25,
   "metadata": {},
   "outputs": [
    {
     "name": "stdout",
     "output_type": "stream",
     "text": [
      "1: \"time\" found 237 times\t ***********************\n",
      "2: \"dashwood\" found 224 times\t **********************\n",
      "3: \"sister\" found 213 times\t *********************\n",
      "4: \"miss\" found 209 times\t ********************\n",
      "5: \"mother\" found 200 times\t ********************\n",
      "6: \"colonel\" found 163 times\t ****************\n",
      "7: \"house\" found 148 times\t **************\n",
      "8: \"john\" found 147 times\t **************\n",
      "9: \"good\" found 145 times\t **************\n",
      "10: \"make\" found 142 times\t **************\n",
      "11: \"day\" found 138 times\t *************\n",
      "12: \"lady\" found 137 times\t *************\n",
      "13: \"made\" found 137 times\t *************\n",
      "14: \"give\" found 130 times\t *************\n",
      "15: \"heart\" found 123 times\t ************\n",
      "16: \"thought\" found 116 times\t ***********\n",
      "17: \"brandon\" found 116 times\t ***********\n",
      "18: \"dear\" found 115 times\t ***********\n",
      "19: \"ferrars\" found 109 times\t **********\n",
      "20: \"felt\" found 104 times\t **********\n",
      "21: \"long\" found 103 times\t **********\n",
      "22: \"young\" found 103 times\t **********\n",
      "23: \"sisters\" found 99 times\t *********\n",
      "24: \"replied\" found 99 times\t *********\n",
      "25: \"left\" found 98 times\t *********\n",
      "26: \"mind\" found 97 times\t *********\n",
      "27: \"happy\" found 97 times\t *********\n",
      "28: \"room\" found 97 times\t *********\n",
      "29: \"kind\" found 94 times\t *********\n",
      "30: \"world\" found 89 times\t ********\n"
     ]
    }
   ],
   "source": [
    "import re\n",
    "import collections\n",
    "\n",
    "# Open the book, setting everything to lowercase\n",
    "book = open(\"Sense_and_Sensibility.txt\").read().lower()\n",
    "\n",
    "# Regex to get through introductory pages\n",
    "book = re.sub(\"\\n\", \" \", book)\n",
    "book = re.sub(\"[^a-z ]+\", \"\", book)\n",
    "book = re.sub(\"[ ]{2,}\", \" \", book)\n",
    "\n",
    "# Break book on spaces into an array of words\n",
    "words = book.split()\n",
    "\n",
    "# Open the stopwords file\n",
    "with open(\"stopwords.txt\") as stop_file:\n",
    "    \n",
    "    # Strip words and set to lowercase as we append them\n",
    "    stop_words = []\n",
    "    for line in stop_file:\n",
    "        entry = line.rstrip().lower()\n",
    "        stop_words.append(entry)\n",
    "    \n",
    "# For each word in the stopwords file, \n",
    "for word in stop_words:\n",
    "    # Use anonymous func to remove each instance of that word in words\n",
    "    words = list(filter(lambda w: w != word, words))\n",
    "    \n",
    "# Create a key-value dictionary of the word and its count\n",
    "word_count = dict(collections.Counter(words))\n",
    "\n",
    "# We sort the words so the highest number is first, electing to display the top 30\n",
    "sorted_words = sorted(word_count.items(), key=lambda x: x[1], reverse=True)[:30]\n",
    "\n",
    "for i, word in enumerate(sorted_words):\n",
    "    i=i+1\n",
    "    print(f'{i}: \"{word[0]}\" found {word[1]} times\\t {\"*\" * (word[1] // 10)}')"
   ]
  },
  {
   "cell_type": "code",
   "execution_count": null,
   "metadata": {},
   "outputs": [],
   "source": []
  }
 ],
 "metadata": {
  "kernelspec": {
   "display_name": "Python 3",
   "language": "python",
   "name": "python3"
  },
  "language_info": {
   "codemirror_mode": {
    "name": "ipython",
    "version": 3
   },
   "file_extension": ".py",
   "mimetype": "text/x-python",
   "name": "python",
   "nbconvert_exporter": "python",
   "pygments_lexer": "ipython3",
   "version": "3.7.6"
  }
 },
 "nbformat": 4,
 "nbformat_minor": 4
}
