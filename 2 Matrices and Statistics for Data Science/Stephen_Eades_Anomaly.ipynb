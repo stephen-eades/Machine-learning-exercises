{
 "cells": [
  {
   "cell_type": "markdown",
   "metadata": {},
   "source": [
    "<h1> Module 5 Submission </h1>\n",
    "<h2> Machine Learning and Data Mining</h2>\n",
    "<h3 style=\"margin-top: 10px;\" > Stephen Eades </h3>\n",
    "\n",
    "<p> 7/14/2020 </p>\n",
    "\n",
    "<h4> Anomaly Detection </h4>\n",
    "\n",
    "<ol>\n",
    "    <li> Read in data from anamaly_detection.txt and assign the data to an array (x) </li>\n",
    "    <li> Create a function -- anomaly_detection() to take an array as an input and output the result in the          format of \"sample_output\" file. </li>\n",
    "</ol>\n",
    "<strong>Anomaly:</strong> Assume D is a dataset. X is a member of D. Mu is the mean of D without X, and STD is the standard deviation of D without X. If the difference of X and Mu is larger than 3xSTD, we say X is an anomaly. We then remove X from D. We will iteratively search D for anomaly until no more outliers are found.\n",
    "\n",
    "<strong>Submission:</strong> You will export your notebook to both .html and .py formats. You will submit the following 2 files to Blackboard. In your html file, you should include all the outputs of your python script without error message.\n",
    "\n",
    "<ol>\n",
    "    <li> Firstname_Lastname_Anomaly.html </li>\n",
    "    <li> Firstname_Lastname_Anomaly.py </li>\n",
    "</ol>\n",
    "\n",
    "<strong>Attachments:</strong> \n",
    "\n",
    "<ol>\n",
    "    <li> Anomaly_detection.txt: The data file that you will read in </li>\n",
    "    <li> A sample output of the function you will create </li>\n",
    "</ol>"
   ]
  },
  {
   "cell_type": "code",
   "execution_count": 1,
   "metadata": {},
   "outputs": [],
   "source": [
    "import math\n",
    "import numpy as np\n",
    "import copy"
   ]
  },
  {
   "cell_type": "code",
   "execution_count": 2,
   "metadata": {},
   "outputs": [],
   "source": [
    "# Read in data from anomaly_detection.txt and assign the data to an array (x)\n",
    "with open(\"anomaly_detection.txt\") as anomalies:\n",
    "    \n",
    "    # Store each line into array\n",
    "    x = []\n",
    "    for line in anomalies:\n",
    "        x.append(float(line.rstrip()))"
   ]
  },
  {
   "cell_type": "code",
   "execution_count": 3,
   "metadata": {},
   "outputs": [],
   "source": [
    "# Create a function to take an array as input and output the result in the \"sample_output\" format\n",
    "def anomaly_detection(array):\n",
    "    \n",
    "    item_with_max_difference = 0.00\n",
    "    max_difference = 0.00\n",
    "    mean_of_array_excluding_most_distant_member = 0.00\n",
    "    array_excluding_most_distant_member = []\n",
    "\n",
    "    # Loop through the input array \n",
    "    for item in array:\n",
    "\n",
    "        # Duplicate array and remove current item from dataset\n",
    "        array_without_item = copy.deepcopy(array)\n",
    "        array_without_item.remove(item)\n",
    "        \n",
    "        # Calculate mean of the remaining data points without that member\n",
    "        sum = 0\n",
    "        for element in array_without_item: \n",
    "            \n",
    "            # Calculate the sum\n",
    "            sum = sum + element\n",
    "            \n",
    "        # Calculate mean of the dataset using the sum\n",
    "        mean = sum/len(array_without_item)\n",
    "        \n",
    "        # Calculate difference between the member you removed and this mean of the remaining data points \n",
    "        difference = item - mean\n",
    "        if difference < 1:\n",
    "            # Convert negatives to positive\n",
    "            difference = difference * -1\n",
    "            \n",
    "        # Store the difference, member, mean, and array if the difference is the greatest yet\n",
    "        if difference > max_difference:\n",
    "            max_difference = difference\n",
    "            item_with_max_difference = item\n",
    "            mean_of_array_excluding_most_distant_member = mean\n",
    "            array_excluding_most_distant_member = array_without_item\n",
    "    \n",
    "    # Find the standard deviation of the array excluding the most distant member\n",
    "    std_dev = np.std(array_excluding_most_distant_member)\n",
    "    \n",
    "    # Check if the difference is greater than 3 times the standard deviation\n",
    "    if max_difference > (std_dev * 3):\n",
    "        \n",
    "        # Remove it from array and repeat step 1 by calling the function recursively\n",
    "        print(f'Remove {item_with_max_difference} from the list because its {round(max_difference/std_dev, 2)} times of standard deviation of the list without it.')\n",
    "        array.remove(item_with_max_difference)\n",
    "        print(f'{item_with_max_difference} is removed from the list! \\n')\n",
    "        anomaly_detection(array)\n",
    "        \n",
    "    # Stop and display that there are no more anomalies\n",
    "    return (f'no more anomalies are detected')"
   ]
  },
  {
   "cell_type": "code",
   "execution_count": 4,
   "metadata": {},
   "outputs": [
    {
     "name": "stdout",
     "output_type": "stream",
     "text": [
      "Remove 160.0 from the list because its 4.14 times of standard deviation of the list without it.\n",
      "160.0 is removed from the list! \n",
      "\n",
      "Remove 55.0 from the list because its 3.57 times of standard deviation of the list without it.\n",
      "55.0 is removed from the list! \n",
      "\n",
      "Remove 131.85777845 from the list because its 3.08 times of standard deviation of the list without it.\n",
      "131.85777845 is removed from the list! \n",
      "\n"
     ]
    },
    {
     "data": {
      "text/plain": [
       "'no more anomalies are detected'"
      ]
     },
     "execution_count": 4,
     "metadata": {},
     "output_type": "execute_result"
    }
   ],
   "source": [
    "anomaly_detection(x)"
   ]
  }
 ],
 "metadata": {
  "kernelspec": {
   "display_name": "Python 3",
   "language": "python",
   "name": "python3"
  },
  "language_info": {
   "codemirror_mode": {
    "name": "ipython",
    "version": 3
   },
   "file_extension": ".py",
   "mimetype": "text/x-python",
   "name": "python",
   "nbconvert_exporter": "python",
   "pygments_lexer": "ipython3",
   "version": "3.7.6"
  }
 },
 "nbformat": 4,
 "nbformat_minor": 4
}
