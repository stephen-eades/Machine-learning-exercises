{
 "cells": [
  {
   "cell_type": "markdown",
   "metadata": {},
   "source": [
    "<h1> Module 6 Submission </h1>\n",
    "<h2> Machine Learning and Data Mining</h2>\n",
    "<h3 style=\"margin-top: 10px;\" > Stephen Eades </h3>\n",
    "\n",
    "<p> 7/17/2020 </p>\n",
    "\n",
    "<h4> Visualization </h4>\n",
    "\n",
    "<ol>\n",
    "    <li> Create a histograms as close to the sample_plot_result.png as possible. “x-distribution” is the “average” scores, “y-distribution” is the math scores \n",
    "    </li>\n",
    "    <li> Create a function – find_outlier() that takes a string as input and output the outliers in the corresponding column in the dataframe. The outliers are defined as values more than 1.8 times of the standard deviation from the mean of the entire column \n",
    "    </li>\n",
    "</ol>\n",
    "\n",
    "*The assignment uses PISA 2012 dataset. It is currently in the first table at https://en.wikipedia.org/wiki/Programme_for_International_Student_Assessment_(2000_to_2012) (Links to an external site.). Click \"SHOW\" to see the table. \n",
    "\n",
    "<strong>Submission:</strong> You will export your notebook to both .html and .py formats. You will submit the following 2 files to Blackboard. In your html file, you should include all the outputs of your python script without error messages.\n",
    "\n",
    "<ol>\n",
    "    <li> Firstname_Lastname_Visualization.zip  (zip the .html and .ipynb files) </li>\n",
    "    <li> Firstname_Lastname_Twitter.zip  (zip the .html and .ipynb files) </li>\n",
    "</ol>\n",
    "\n",
    "<strong>Attachments:</strong> \n",
    "\n",
    "<ol>\n",
    "    <li>\n",
    "    Sample_plot_result.png: Sample plot\n",
    "    </li>\n",
    "    <li>\n",
    "    Outlier_function.png: Sample input and output of the find_outlier() function\n",
    "    </li>\n",
    "    <li>\n",
    "    Map-of-a-tweet.png: Description of data fields in twitter tweets\n",
    "    </li>\n",
    "    <li>\n",
    "Assignment 6(1).pdf\n",
    "    </li>\n",
    "</ol>"
   ]
  },
  {
   "cell_type": "code",
   "execution_count": 4,
   "metadata": {},
   "outputs": [],
   "source": [
    "import pandas as pd\n",
    "import scipy as sc\n",
    "\n",
    "from matplotlib import pyplot as plt\n",
    "%matplotlib inline\n",
    "\n",
    "import numpy as np\n",
    "import seaborn as sns"
   ]
  },
  {
   "cell_type": "markdown",
   "metadata": {},
   "source": [
    "Using PISA data at: https://en.wikipedia.org/wiki/Programme_for_International_Student_Assessment_(2000_to_2012)"
   ]
  },
  {
   "cell_type": "code",
   "execution_count": 7,
   "metadata": {},
   "outputs": [],
   "source": [
    "# Get Math data from memory and add column headers\n",
    "df_math=pd.read_clipboard(header=None)\n",
    "df_math.columns = [\"Rank\", \"Country\", \"Score\"]"
   ]
  },
  {
   "cell_type": "code",
   "execution_count": 8,
   "metadata": {},
   "outputs": [],
   "source": [
    "# Get Science data from memory and add column headers\n",
    "df_science=pd.read_clipboard(header=None)\n",
    "df_science.columns = [\"Rank\", \"Country\", \"Score\"]"
   ]
  },
  {
   "cell_type": "code",
   "execution_count": 9,
   "metadata": {},
   "outputs": [],
   "source": [
    "# Get Reading data from memory and add column headers\n",
    "df_reading=pd.read_clipboard(header=None)\n",
    "df_reading.columns = [\"Rank\", \"Country\", \"Score\"]"
   ]
  },
  {
   "cell_type": "code",
   "execution_count": 10,
   "metadata": {},
   "outputs": [],
   "source": [
    "# Merge Math and Science data frames on Country\n",
    "temp = pd.merge(df_math, df_science, on='Country', how='outer')\n",
    "\n",
    "# Merge temp with Reading data frame on Country\n",
    "temp = pd.merge(temp, df_reading, on='Country', how='outer')\n",
    "\n",
    "# Remove unused columns\n",
    "del temp['Rank_x'] \n",
    "del temp['Rank_y']\n",
    "del temp['Rank']\n",
    "\n",
    "# Rename columns to their appropriate subject\n",
    "temp = temp.rename(index=str, columns={\"Score_x\": \"Math\", \"Score_y\": \"Science\", \"Score\": \"Reading\"})\n",
    "\n",
    "# Convert values in each subject column to numbers \n",
    "math_numeric = pd.to_numeric(temp['Math'], errors='ignore')\n",
    "science_numeric = pd.to_numeric(temp['Science'], errors='ignore')\n",
    "reading_numeric = pd.to_numeric(temp['Reading'], errors='ignore')\n",
    "\n",
    "# Create Average column, calculating the average and converting to integers\n",
    "temp['Average'] = ((math_numeric+science_numeric+reading_numeric)/3)"
   ]
  },
  {
   "cell_type": "code",
   "execution_count": 11,
   "metadata": {
    "scrolled": true
   },
   "outputs": [
    {
     "name": "stderr",
     "output_type": "stream",
     "text": [
      "/home/osboxes/anaconda3/lib/python3.7/site-packages/ipykernel_launcher.py:14: MatplotlibDeprecationWarning: Adding an axes using the same arguments as a previous axes currently reuses the earlier instance.  In a future version, a new instance will always be created and returned.  Meanwhile, this warning can be suppressed, and the future behavior ensured, by passing a unique label to each axes instance.\n",
      "  \n"
     ]
    },
    {
     "data": {
      "image/png": "[encoded data removed]",
      "text/plain": [
       "<Figure size 432x288 with 1 Axes>"
      ]
     },
     "metadata": {
      "needs_background": "light"
     },
     "output_type": "display_data"
    }
   ],
   "source": [
    "# Initial formatting and labeling\n",
    "plt.title(\"Assignment 6\")\n",
    "plt.xlabel(\"Value Range\")\n",
    "plt.ylabel(\"Probability\")\n",
    "plt.xticks(np.arange(360, 650, step=30))\n",
    "\n",
    "# Plot and add labels, additionally add the legend and style it\n",
    "plt.hist(temp['Average'], color='Red', alpha=0.6, bins=10, density=True, label='x-distribution')\n",
    "plt.hist(temp['Math'], color='Blue', alpha=0.6, bins=20, density=True, label='y-distribution')\n",
    "plt.legend(loc=1, facecolor='white', framealpha=0.00)\n",
    "\n",
    "# Polish the styling\n",
    "plt.grid(color='green', linestyle='-.', linewidth=0.5)\n",
    "plt.axes().set_facecolor('lightgray')\n",
    "plt.show()"
   ]
  },
  {
   "cell_type": "markdown",
   "metadata": {},
   "source": [
    "<p> Now create function to find outliers </p>"
   ]
  },
  {
   "cell_type": "code",
   "execution_count": 26,
   "metadata": {},
   "outputs": [],
   "source": [
    "def find_outlier(str):\n",
    "    sum = 0\n",
    "    mean = 0\n",
    "    \n",
    "    # Convert to numbers\n",
    "    numeric_column = pd.to_numeric(temp[str], errors='ignore')\n",
    "    \n",
    "    # Calculate the sum and mean\n",
    "    for number in numeric_column:\n",
    "        sum = sum + number\n",
    "        \n",
    "    mean = sum/len(numeric_column)\n",
    "    \n",
    "    # Find the standard deviation\n",
    "    std_dev = np.std(numeric_column)\n",
    "    \n",
    "    # Find values that are a distance of (std_dev * 1.8) or greater from the mean\n",
    "    country_index = 0\n",
    "    country_array = []\n",
    "    for number in numeric_column: \n",
    "        difference = number - (std_dev * 1.8)\n",
    "        \n",
    "        # Convert to absolute value, then compare against mean\n",
    "        if abs(difference) > mean:\n",
    "            \n",
    "            # Stash the countries that are considered outliers\n",
    "            country_array.append(temp['Country'][country_index])\n",
    "            \n",
    "        # Increment for next loop\n",
    "        country_index = country_index + 1\n",
    "            \n",
    "    \n",
    "    return f'The outliers in {str} are: {country_array}'"
   ]
  },
  {
   "cell_type": "code",
   "execution_count": 27,
   "metadata": {
    "scrolled": true
   },
   "outputs": [
    {
     "data": {
      "text/plain": [
       "\"The outliers in Math are: ['China Shanghai, China ', ' Singapore ']\""
      ]
     },
     "execution_count": 27,
     "metadata": {},
     "output_type": "execute_result"
    }
   ],
   "source": [
    "find_outlier('Math')"
   ]
  },
  {
   "cell_type": "code",
   "execution_count": 28,
   "metadata": {},
   "outputs": [
    {
     "data": {
      "text/plain": [
       "\"The outliers in Science are: ['China Shanghai, China ']\""
      ]
     },
     "execution_count": 28,
     "metadata": {},
     "output_type": "execute_result"
    }
   ],
   "source": [
    "find_outlier('Science')"
   ]
  },
  {
   "cell_type": "code",
   "execution_count": 29,
   "metadata": {},
   "outputs": [
    {
     "data": {
      "text/plain": [
       "\"The outliers in Reading are: ['China Shanghai, China ']\""
      ]
     },
     "execution_count": 29,
     "metadata": {},
     "output_type": "execute_result"
    }
   ],
   "source": [
    "find_outlier('Reading')"
   ]
  },
  {
   "cell_type": "code",
   "execution_count": 30,
   "metadata": {},
   "outputs": [
    {
     "data": {
      "text/plain": [
       "\"The outliers in Average are: ['China Shanghai, China ']\""
      ]
     },
     "execution_count": 30,
     "metadata": {},
     "output_type": "execute_result"
    }
   ],
   "source": [
    "find_outlier('Average')"
   ]
  }
 ],
 "metadata": {
  "kernelspec": {
   "display_name": "Python 3",
   "language": "python",
   "name": "python3"
  },
  "language_info": {
   "codemirror_mode": {
    "name": "ipython",
    "version": 3
   },
   "file_extension": ".py",
   "mimetype": "text/x-python",
   "name": "python",
   "nbconvert_exporter": "python",
   "pygments_lexer": "ipython3",
   "version": "3.7.6"
  }
 },
 "nbformat": 4,
 "nbformat_minor": 4
}
