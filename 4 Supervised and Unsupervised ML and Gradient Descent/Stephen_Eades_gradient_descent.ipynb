{
 "cells": [
  {
   "cell_type": "markdown",
   "metadata": {},
   "source": [
    "<h1> Module 7 Submission </h1>\n",
    "<h2> Machine Learning and Data Mining</h2>\n",
    "<h3 style=\"margin-top: 10px;\" > Stephen Eades </h3>\n",
    "\n",
    "<p> 7/17/2020 </p>\n",
    "\n",
    "<h4> Adaptive Gradient Descent </h4>\n",
    "\n",
    "<p>In this module, you will write one Python notebook to create required outputs. You will also participate\n",
    "in module 7 forum discussion. Video “4_assignment” describes the requirements.\n",
    "    <br>\n",
    "    <br>\n",
    "You will use markdown cells and be creative of summarizing/commenting your notebook. You will also\n",
    "add detailed comments in your Python code (using “#” or triple quote signs)</p>\n",
    "\n",
    "<strong>Requirements:</strong> Find the optimum of\n",
    "$ f(x) = x^4+200*(x+2000)^2+10000 $ using gradient descent\n",
    "\n",
    "<ol>\n",
    "    <li> Create 4 functions:<br>\n",
    "        <ul>f(x) </ul>\n",
    "        <ul>df(x)        # derivative of f(x) </ul>\n",
    "        <ul>find_optimum(x_old,x_new,gamma,precisions) </ul>\n",
    "        <ul>adaptive_optimum(x_old, x_new, gamma, t, precision)</ul>\n",
    "    </li>\n",
    "    <br>\n",
    "</ol>\n",
    "\n",
    "<strong>Submission:</strong> You will export your notebook to both .html and .py formats. You will submit the following 1 files to\n",
    "Blackboard. In your html file, you should include all the outputs of your python script without error messages.\n",
    "\n",
    "<ol>\n",
    "    <li> Firstname_Lastname_gradient_descent.zip (zip the .html and .ipynb files) </li>\n",
    "</ol>\n",
    "\n",
    "<strong>Attachments:</strong> \n",
    "\n",
    "<ol>\n",
    "    <li>\n",
    "    Optimization_assignment_template.ipynb: a template to help you complete the gradient descent\n",
    "    </li>\n",
    "</ol>"
   ]
  },
  {
   "cell_type": "code",
   "execution_count": 1,
   "metadata": {},
   "outputs": [],
   "source": [
    "import numpy as np\n",
    "import seaborn as sns\n",
    "\n",
    "from matplotlib import pyplot as plt\n",
    "%matplotlib inline"
   ]
  },
  {
   "cell_type": "code",
   "execution_count": 2,
   "metadata": {},
   "outputs": [],
   "source": [
    "# Define x's range for plotting\n",
    "x=np.arange(-120, 80, 0.1)"
   ]
  },
  {
   "cell_type": "code",
   "execution_count": 3,
   "metadata": {},
   "outputs": [],
   "source": [
    "# Define f(x) based on the function \n",
    "def f(x): \n",
    "    return x**4+200*(x+2000)**2+10000"
   ]
  },
  {
   "cell_type": "code",
   "execution_count": 4,
   "metadata": {},
   "outputs": [
    {
     "data": {
      "text/plain": [
       "[<matplotlib.lines.Line2D at 0x7fcfc88a6590>]"
      ]
     },
     "execution_count": 4,
     "metadata": {},
     "output_type": "execute_result"
    },
    {
     "data": {
      "image/png": "[encoded data removed]",
      "text/plain": [
       "<Figure size 432x288 with 1 Axes>"
      ]
     },
     "metadata": {
      "needs_background": "light"
     },
     "output_type": "display_data"
    }
   ],
   "source": [
    "plt.plot(x,f(x))"
   ]
  },
  {
   "cell_type": "markdown",
   "metadata": {},
   "source": [
    "### We can see that the minimun is between f(-50) and f(-75)"
   ]
  },
  {
   "cell_type": "code",
   "execution_count": 5,
   "metadata": {},
   "outputs": [],
   "source": [
    "# Define the derivative of f(x) over x ---> f'(x)\n",
    "def derivative(x):\n",
    "    return 4*(x**3)+(400*x)+800000"
   ]
  },
  {
   "cell_type": "code",
   "execution_count": 6,
   "metadata": {},
   "outputs": [],
   "source": [
    "# Define a function to find the minimum of f(x) \n",
    "def find_optimum(x_old,x_new,gamma,precision):\n",
    "    \n",
    "    # Store each update in x_search and the iterations\n",
    "    x_search = [x_new]\n",
    "    iterations = [1]\n",
    "\n",
    "    # Keep searchhing until the values converge within the precision\n",
    "    while abs(x_new-x_old) > precision:   \n",
    "    \n",
    "        # Use x_old to keep the x value before the update\n",
    "        x_old = x_new\n",
    "        \n",
    "        # Update x_new\n",
    "        x_new = x_old - gamma*derivative(x_old)\n",
    "            \n",
    "        # Record the udpates\n",
    "        x_search.append(x_new)\n",
    "        \n",
    "        # Record the iterations\n",
    "        iterations.append(len(x_search))\n",
    "    \n",
    "    # Print out the result and plot the decreasing trend of f(x) vs iterations\n",
    "    print(\"The gamme is: \", gamma)\n",
    "    print(len(x_search), \" iterations\")\n",
    "    print(\"The local minumum occurs at %f\" % x_new)\n",
    "\n",
    "    # Print the plot\n",
    "    x_search=np.array(x_search)\n",
    "    iterations=np.array(iterations)\n",
    "    y_search=f(x_search)\n",
    "    \n",
    "    plt.plot(iterations, y_search)\n",
    "    "
   ]
  },
  {
   "cell_type": "code",
   "execution_count": 7,
   "metadata": {},
   "outputs": [
    {
     "name": "stdout",
     "output_type": "stream",
     "text": [
      "The gamme is:  1e-06\n",
      "779  iterations\n",
      "The local minumum occurs at -57.910381\n"
     ]
    },
    {
     "data": {
      "image/png": "[encoded data removed]",
      "text/plain": [
       "<Figure size 432x288 with 1 Axes>"
      ]
     },
     "metadata": {
      "needs_background": "light"
     },
     "output_type": "display_data"
    }
   ],
   "source": [
    "#Test the find_optimum() function with the following parameters\n",
    "x_old = 70 # This value doesn't matter, it's just a init value\n",
    "x_new = 50 # This value doesn't matter\n",
    "gamma = 0.000001  #the learning rate is critial, but we have to guess a value now\n",
    "precision = 1e-12 #the precision decides when to stop the search\n",
    "\n",
    "find_optimum(x_old,x_new,gamma,precision)  #call the function "
   ]
  },
  {
   "cell_type": "code",
   "execution_count": 8,
   "metadata": {},
   "outputs": [],
   "source": [
    "# Create a find_optimum function to automatically set gamma, t is the rate of decay\n",
    "def adaptive_optimum(x_old, x_new, gamma, t, precision):\n",
    "    \n",
    "    # Loop until nextIter is false\n",
    "    nextIter = True\n",
    "    while nextIter:\n",
    "        \n",
    "        #decrease the value of gamma in each iteration\n",
    "        gamma *=t\n",
    "        \n",
    "        #create a local copy of x_old and x_new in each iteration\n",
    "        #it's because we can want any change to x_new and x_old to \n",
    "        #affect the calculation in the next iternation \n",
    "        x_old_try = x_old \n",
    "        x_new_try = x_new \n",
    "        \n",
    "        #try 10000 times to see if x converges\n",
    "        for i in range(10000):\n",
    "            #use x_old_try to keep the value of x before the update\n",
    "            x_old_try = x_new_try          \n",
    "            \n",
    "            try:\n",
    "                ####################################################\n",
    "                ######type your code here (multiple lines)##########\n",
    "                ###### update x_new_try and compare the change \n",
    "                ###### with the precision \n",
    "                ###### print the \"Found gamma: \" and gamma value\n",
    "                ###### if the update is within the precision \n",
    "                ###### stop the loop and return to function call \n",
    "                x_new_try = x_old_try - gamma*derivative(x_old_try)\n",
    "                \n",
    "                if (abs(x_new_try - x_old_try) < precision):\n",
    "                    print(\"Found gamma: \", gamma)\n",
    "                    print(\"The minimum is at: \", x_new_try)\n",
    "                    print(\"The minimum of f(x) is: \", f(x_new_try))\n",
    "                    nextIter = False\n",
    "                    break\n",
    "                \n",
    "\n",
    "            # if there is an error, such as \"value too large\" error, stop the\n",
    "            # iteration and try next gamma\n",
    "            except:     \n",
    "                print(\"Error: The value is too large!\")\n",
    "                break "
   ]
  },
  {
   "cell_type": "code",
   "execution_count": 9,
   "metadata": {},
   "outputs": [
    {
     "name": "stdout",
     "output_type": "stream",
     "text": [
      "Error: The value is too large!\n",
      "Error: The value is too large!\n",
      "Error: The value is too large!\n",
      "Error: The value is too large!\n",
      "Error: The value is too large!\n",
      "Error: The value is too large!\n",
      "Error: The value is too large!\n",
      "Error: The value is too large!\n",
      "Error: The value is too large!\n",
      "Error: The value is too large!\n",
      "Error: The value is too large!\n",
      "Error: The value is too large!\n",
      "Error: The value is too large!\n",
      "Error: The value is too large!\n",
      "Error: The value is too large!\n",
      "Error: The value is too large!\n",
      "Error: The value is too large!\n",
      "Error: The value is too large!\n",
      "Error: The value is too large!\n",
      "Error: The value is too large!\n",
      "Error: The value is too large!\n",
      "Error: The value is too large!\n",
      "Error: The value is too large!\n",
      "Error: The value is too large!\n",
      "Error: The value is too large!\n",
      "Error: The value is too large!\n",
      "Error: The value is too large!\n",
      "Error: The value is too large!\n",
      "Error: The value is too large!\n",
      "Error: The value is too large!\n",
      "Error: The value is too large!\n",
      "Error: The value is too large!\n",
      "Error: The value is too large!\n",
      "Error: The value is too large!\n",
      "Error: The value is too large!\n",
      "Error: The value is too large!\n",
      "Error: The value is too large!\n",
      "Error: The value is too large!\n",
      "Error: The value is too large!\n",
      "Error: The value is too large!\n",
      "Error: The value is too large!\n",
      "Error: The value is too large!\n",
      "Error: The value is too large!\n",
      "Error: The value is too large!\n",
      "Error: The value is too large!\n",
      "Error: The value is too large!\n",
      "Error: The value is too large!\n",
      "Error: The value is too large!\n",
      "Error: The value is too large!\n",
      "Error: The value is too large!\n",
      "Error: The value is too large!\n",
      "Error: The value is too large!\n",
      "Error: The value is too large!\n",
      "Error: The value is too large!\n",
      "Error: The value is too large!\n",
      "Error: The value is too large!\n",
      "Error: The value is too large!\n",
      "Error: The value is too large!\n",
      "Error: The value is too large!\n",
      "Error: The value is too large!\n",
      "Error: The value is too large!\n",
      "Error: The value is too large!\n",
      "Error: The value is too large!\n",
      "Error: The value is too large!\n",
      "Error: The value is too large!\n",
      "Error: The value is too large!\n",
      "Error: The value is too large!\n",
      "Error: The value is too large!\n",
      "Error: The value is too large!\n",
      "Error: The value is too large!\n",
      "Error: The value is too large!\n",
      "Error: The value is too large!\n",
      "Error: The value is too large!\n",
      "Error: The value is too large!\n",
      "Error: The value is too large!\n",
      "Error: The value is too large!\n",
      "Error: The value is too large!\n",
      "Error: The value is too large!\n",
      "Error: The value is too large!\n",
      "Error: The value is too large!\n",
      "Error: The value is too large!\n",
      "Error: The value is too large!\n",
      "Error: The value is too large!\n",
      "Error: The value is too large!\n",
      "Error: The value is too large!\n",
      "Error: The value is too large!\n",
      "Error: The value is too large!\n",
      "Error: The value is too large!\n",
      "Error: The value is too large!\n",
      "Found gamma:  4.4981962247603756e-05\n",
      "The minimum is at:  -57.91038100742448\n",
      "The minimum of f(x) is:  765599132.6183875\n"
     ]
    }
   ],
   "source": [
    "#Idealy, we want to automatically find the right gamma\n",
    "#read http://www.onmyphd.com/?p=gradient.descent\n",
    "#use backtracking method and create t\n",
    "\n",
    "x_old = 70 # This value does not matter \n",
    "x_new = 50 # This value does not matter either\n",
    "\n",
    "#the precision is set to be very high\n",
    "precision = 1e-12\n",
    "\n",
    "#decrease rate of gamma\n",
    "t=0.9\n",
    "\n",
    "#we can start with a large positive gamma close to 1\n",
    "gamma = 1\n",
    "\n",
    "#call the function\n",
    "adaptive_optimum(x_old, x_new, gamma, t, precision)"
   ]
  }
 ],
 "metadata": {
  "anaconda-cloud": {},
  "kernelspec": {
   "display_name": "Python 3",
   "language": "python",
   "name": "python3"
  },
  "language_info": {
   "codemirror_mode": {
    "name": "ipython",
    "version": 3
   },
   "file_extension": ".py",
   "mimetype": "text/x-python",
   "name": "python",
   "nbconvert_exporter": "python",
   "pygments_lexer": "ipython3",
   "version": "3.7.6"
  }
 },
 "nbformat": 4,
 "nbformat_minor": 1
}
