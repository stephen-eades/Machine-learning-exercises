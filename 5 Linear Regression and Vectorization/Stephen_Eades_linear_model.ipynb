{
 "cells": [
  {
   "cell_type": "markdown",
   "metadata": {},
   "source": [
    "<h1> Module 8 Submission </h1>\n",
    "<h2> Machine Learning and Data Mining</h2>\n",
    "<h3 style=\"margin-top: 10px;\" > Stephen Eades </h3>\n",
    "\n",
    "<p> 7/20/2020 </p>\n",
    "\n",
    "<h4> Linear Regression and Vectorization </h4>\n",
    "\n",
    "<p>In this module, you will write one Python notebook to create required outputs.\n",
    "    <br>\n",
    "    <br>\n",
    "\n",
    "<ol>\n",
    "    <li>Watch the lecture videos and fully understand the lecture notebook</li>\n",
    "    <li>Copy code from the template to your assignment</li>\n",
    "    <li>Fill out the missing code. </li>\n",
    "    <li>Execute your code and print out the output to the notebook\n",
    "    </li>\n",
    "    <br>\n",
    "</ol>\n",
    "\n",
    "<strong>Submission:</strong> You will export your notebook to both .html and .py formats. You will submit the following file to Blackboard. In your html file, you should include only required outputs of your python script without error messages.\n",
    "\n",
    "<ol>\n",
    "    <li> Firstname_Lastname_linear_model.zip (zip the .html and .ipynb files) </li>\n",
    "</ol>\n",
    "\n",
    "<strong>Attachments:</strong> \n",
    "\n",
    "<ol>\n",
    "    <li>\n",
    "    Linear_regression_lecture_v2   :                               The lecture notebook</li>\n",
    "    <li>\n",
    "Linear_regression_assignment_template.ipynb:          The assignment template\n",
    "    </li>\n",
    "</ol>"
   ]
  },
  {
   "cell_type": "code",
   "execution_count": 1,
   "metadata": {},
   "outputs": [],
   "source": [
    "# Import packages\n",
    "import numpy as np \n",
    "import time\n",
    "from matplotlib import pyplot as plt\n",
    "import seaborn as sns\n",
    "%matplotlib inline"
   ]
  },
  {
   "cell_type": "code",
   "execution_count": 2,
   "metadata": {},
   "outputs": [],
   "source": [
    "# years as \"x\" and salary as \"y\" with linear relationship\n",
    "years = np.arange(0,40,0.5)\n",
    "np.random.seed(0)\n",
    "salary = 45000+np.sqrt(years)*16789 +np.random.normal(2000,10000,len(years))"
   ]
  },
  {
   "cell_type": "code",
   "execution_count": 3,
   "metadata": {},
   "outputs": [
    {
     "name": "stdout",
     "output_type": "stream",
     "text": [
      "(80, 2)\n",
      "[[1.  0. ]\n",
      " [1.  0.5]\n",
      " [1.  1. ]]\n"
     ]
    }
   ],
   "source": [
    "y=np.array(salary)\n",
    "\n",
    "# Convert X to a nX2 matrix, n is the number samples, and the first column of X is 1\n",
    "X = np.array(years)\n",
    "\n",
    "# Create a ones vector\n",
    "ones = np.ones((X.shape[0],1))\n",
    "\n",
    "# Add ones to the first vector/column in X \n",
    "X = np.reshape(X, (X.shape[0],1))\n",
    "X = np.concatenate((ones,X), axis=1)\n",
    "\n",
    "print(X.shape)\n",
    "print(X[0:3, :])"
   ]
  },
  {
   "cell_type": "code",
   "execution_count": 4,
   "metadata": {},
   "outputs": [],
   "source": [
    "def error(theta, X, y):\n",
    "    return y-(np.dot(X, theta))\n",
    "\n",
    "# Calculate SSE\n",
    "def vectorized_calculate_SSE(theta):\n",
    "    return sum(error(theta, X, y)**2)\n",
    "\n",
    "# Calculate gradient\n",
    "def vectorized_update_theta(theta, gamma):\n",
    "    gradient=[0,0]\n",
    "    gradient[0] = -2*sum(error(theta, X, y))\n",
    "    gradient[1] = -2*sum(error(theta, X, y))\n",
    "    \n",
    "    return  [theta[0]-gamma*gradient[0], theta[1]-gamma*gradient[1]]\n",
    "\n",
    "\n",
    "def vectorized_adaptive_optimum(theta, gamma, t, precision):\n",
    "    # Infinite loop if no \"return\" is executed \n",
    "    while True:\n",
    "        # Decrease gamma in every iteration\n",
    "        gamma *=t\n",
    "        \n",
    "        # Store SSE \n",
    "        old_SSE = vectorized_calculate_SSE(theta)\n",
    "        \n",
    "        # Update theta for a small number of time\n",
    "        for i in range(10):\n",
    "            temp_theta =vectorized_update_theta(theta, gamma) \n",
    "        \n",
    "        # Get the new SSE\n",
    "        new_SSE = vectorized_calculate_SSE(temp_theta)\n",
    "        \n",
    "        # If SSE is thrinking, go to the next iteration and try a smaller gamma\n",
    "        if new_SSE > old_SSE:  \n",
    "            continue\n",
    "        \n",
    "        # If SEE does converge\n",
    "        else:\n",
    "            # Try a large iteration to see if gamma can be found\n",
    "            for i in range(100000):\n",
    "                \n",
    "                # Update theta and calculate new SSE\n",
    "                theta =vectorized_update_theta(theta, gamma) \n",
    "                new_SSE = vectorized_calculate_SSE(theta)\n",
    "                \n",
    "                # If the update is within the prcision \n",
    "                if abs(old_SSE - new_SSE) < precision:\n",
    "                    \n",
    "                    # Print out the result and return to the function call\n",
    "                    print(\"found minimum cost: \\t\", new_SSE)\n",
    "                    print(\"the optimum theta: \\t\", theta)\n",
    "                    print(\"the learning rate is: \\t\", gamma)\n",
    "                    return theta"
   ]
  },
  {
   "cell_type": "code",
   "execution_count": 5,
   "metadata": {},
   "outputs": [
    {
     "name": "stdout",
     "output_type": "stream",
     "text": [
      "found minimum cost: \t 158745810715.17834\n",
      "the optimum theta: \t [5628.405549652124, 5628.405549652124]\n",
      "the learning rate is: \t 8.464149782874061e-05\n",
      "the calculation takes  15.721639633178711  seconds.\n"
     ]
    }
   ],
   "source": [
    "# Initiate theta\n",
    "init_theta=[1,1]\n",
    "\n",
    "# Start from a large learning rate\n",
    "gamma = 1\n",
    "\n",
    "# The decrease rate of gamma \n",
    "t=0.9\n",
    "\n",
    "# The precision for stopping the search. 1 unit is a $1\n",
    "precision =1\n",
    "\n",
    "# Print out the time used for computing\n",
    "start_time = time.time()\n",
    "\n",
    "# Call the vectorized function\n",
    "theta = vectorized_adaptive_optimum(init_theta,gamma,t,precision)\n",
    "print(\"the calculation takes \", time.time()-start_time, \" seconds.\")"
   ]
  },
  {
   "cell_type": "code",
   "execution_count": 6,
   "metadata": {},
   "outputs": [
    {
     "data": {
      "image/png": "[encoded data removed]",
      "text/plain": [
       "<Figure size 432x288 with 1 Axes>"
      ]
     },
     "metadata": {
      "needs_background": "light"
     },
     "output_type": "display_data"
    }
   ],
   "source": [
    "# Plot the prediction line\n",
    "plt.title(\"Experience vs. Salary\")\n",
    "plt.xlabel('Years of Experience (Years)')\n",
    "plt.ylabel('Salary ($)')\n",
    "plt.grid(True)\n",
    "plt.xlim(0,40)\n",
    "plt.ylim(45000,180000)\n",
    "plt.scatter(years, salary)\n",
    "\n",
    "# Plot best fit\n",
    "m,b = np.polyfit(years, salary, 1)\n",
    "plt.plot(years, m*years + b)\n",
    "\n",
    " \n",
    "plt.show()"
   ]
  },
  {
   "cell_type": "code",
   "execution_count": null,
   "metadata": {},
   "outputs": [],
   "source": []
  }
 ],
 "metadata": {
  "anaconda-cloud": {},
  "kernelspec": {
   "display_name": "Python 3",
   "language": "python",
   "name": "python3"
  },
  "language_info": {
   "codemirror_mode": {
    "name": "ipython",
    "version": 3
   },
   "file_extension": ".py",
   "mimetype": "text/x-python",
   "name": "python",
   "nbconvert_exporter": "python",
   "pygments_lexer": "ipython3",
   "version": "3.7.6"
  }
 },
 "nbformat": 4,
 "nbformat_minor": 1
}
