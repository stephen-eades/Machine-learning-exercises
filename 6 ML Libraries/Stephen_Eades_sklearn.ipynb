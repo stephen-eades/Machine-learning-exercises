{
 "cells": [
  {
   "cell_type": "markdown",
   "metadata": {},
   "source": [
    "<h1> Module 9 Submission </h1>\n",
    "<h2> Machine Learning and Data Mining</h2>\n",
    "<h3 style=\"margin-top: 10px;\" > Stephen Eades </h3>\n",
    "\n",
    "<p> 7/20/2020 </p>\n",
    "\n",
    "<h4> Sklearn </h4>\n",
    "\n",
    "<p>In this module, you will write one Python notebooks to create required outputs. You will also participate in module 9 forum discussion.\n",
    "    <br>\n",
    "    <br>\n",
    "\n",
    "<ol>\n",
    "    <li>Watch the lecture videos and fully understand the lecture notebook</li>\n",
    "    <li>Analyze the “app_usage” data set by following the example in the lecture</li>\n",
    "    <li>Create the heat map as in the attached “heatmap.png”.</li>\n",
    "    <li>Display the R and adjusted R of each model. Make sure that the features are added in the descending order of their individual R squared values. Create an output as in the attached “models.png”.</li>\n",
    "    <li>Read this (http://abbottanalytics.blogspot.com/2004/12/find-correlated-variables-prior-to.html (Links to an external site.)) and improve your model by removing some features. The answer may vary. Write in your notebook to explain what features you removed and why you remove those features.</li>\n",
    "    <li>Find a model with 3 features and reasonable R squared value</li>\n",
    "    <li>Summarize the feature selection process in your notebook</li>\n",
    "    <br>\n",
    "</ol>\n",
    "\n",
    "<strong>Submission:</strong> You will export your notebook to both .html and .py formats. You will submit the following file to Blackboard. In your html file, you should include only required outputs of your python script without error messages.\n",
    "\n",
    "<ol>\n",
    "    <li> Firstname_Lastname_sklearn.zip (zip the .html and .ipynb files)  </li>\n",
    "</ol>\n",
    "\n",
    "<strong>Attachments:</strong> \n",
    "\n",
    "<ol>\n",
    "    <li>heatmap.png: Sample correlation map</li>\n",
    "    <li>models.png: Sample output of R and adjusted R of all models.</li>\n",
    "    <li>App_usage.csvPreview the document: VPN access data set</li>\n",
    "    <li>Scikit_learn_assignment_template.ipynb: The assignment template</li>\n",
    "</ol>"
   ]
  },
  {
   "cell_type": "code",
   "execution_count": 1,
   "metadata": {},
   "outputs": [],
   "source": [
    "# Import the needed packages\n",
    "import numpy as np\n",
    "import pandas as pd\n",
    "from matplotlib import pyplot as plt\n",
    "import seaborn as sns\n",
    "%matplotlib inline"
   ]
  },
  {
   "cell_type": "code",
   "execution_count": 2,
   "metadata": {},
   "outputs": [
    {
     "data": {
      "text/html": [
       "<div>\n",
       "<style scoped>\n",
       "    .dataframe tbody tr th:only-of-type {\n",
       "        vertical-align: middle;\n",
       "    }\n",
       "\n",
       "    .dataframe tbody tr th {\n",
       "        vertical-align: top;\n",
       "    }\n",
       "\n",
       "    .dataframe thead th {\n",
       "        text-align: right;\n",
       "    }\n",
       "</style>\n",
       "<table border=\"1\" class=\"dataframe\">\n",
       "  <thead>\n",
       "    <tr style=\"text-align: right;\">\n",
       "      <th></th>\n",
       "      <th>CRM</th>\n",
       "      <th>CloudDrive</th>\n",
       "      <th>ERP</th>\n",
       "      <th>Expenses</th>\n",
       "      <th>HR1</th>\n",
       "      <th>HR2</th>\n",
       "      <th>ITOps</th>\n",
       "      <th>OTHER</th>\n",
       "      <th>Recruiting</th>\n",
       "      <th>Webmail</th>\n",
       "      <th>RemoteAccess</th>\n",
       "    </tr>\n",
       "  </thead>\n",
       "  <tbody>\n",
       "    <tr>\n",
       "      <th>0</th>\n",
       "      <td>49</td>\n",
       "      <td>99</td>\n",
       "      <td>17</td>\n",
       "      <td>38</td>\n",
       "      <td>0</td>\n",
       "      <td>0</td>\n",
       "      <td>18</td>\n",
       "      <td>144</td>\n",
       "      <td>33</td>\n",
       "      <td>141</td>\n",
       "      <td>283</td>\n",
       "    </tr>\n",
       "    <tr>\n",
       "      <th>1</th>\n",
       "      <td>107</td>\n",
       "      <td>148</td>\n",
       "      <td>28</td>\n",
       "      <td>54</td>\n",
       "      <td>0</td>\n",
       "      <td>0</td>\n",
       "      <td>38</td>\n",
       "      <td>188</td>\n",
       "      <td>30</td>\n",
       "      <td>213</td>\n",
       "      <td>430</td>\n",
       "    </tr>\n",
       "    <tr>\n",
       "      <th>2</th>\n",
       "      <td>639</td>\n",
       "      <td>796</td>\n",
       "      <td>221</td>\n",
       "      <td>216</td>\n",
       "      <td>0</td>\n",
       "      <td>0</td>\n",
       "      <td>133</td>\n",
       "      <td>1175</td>\n",
       "      <td>297</td>\n",
       "      <td>579</td>\n",
       "      <td>732</td>\n",
       "    </tr>\n",
       "    <tr>\n",
       "      <th>3</th>\n",
       "      <td>653</td>\n",
       "      <td>767</td>\n",
       "      <td>203</td>\n",
       "      <td>191</td>\n",
       "      <td>0</td>\n",
       "      <td>0</td>\n",
       "      <td>139</td>\n",
       "      <td>1475</td>\n",
       "      <td>308</td>\n",
       "      <td>549</td>\n",
       "      <td>738</td>\n",
       "    </tr>\n",
       "    <tr>\n",
       "      <th>4</th>\n",
       "      <td>670</td>\n",
       "      <td>738</td>\n",
       "      <td>196</td>\n",
       "      <td>140</td>\n",
       "      <td>0</td>\n",
       "      <td>0</td>\n",
       "      <td>128</td>\n",
       "      <td>1111</td>\n",
       "      <td>305</td>\n",
       "      <td>678</td>\n",
       "      <td>781</td>\n",
       "    </tr>\n",
       "    <tr>\n",
       "      <th>...</th>\n",
       "      <td>...</td>\n",
       "      <td>...</td>\n",
       "      <td>...</td>\n",
       "      <td>...</td>\n",
       "      <td>...</td>\n",
       "      <td>...</td>\n",
       "      <td>...</td>\n",
       "      <td>...</td>\n",
       "      <td>...</td>\n",
       "      <td>...</td>\n",
       "      <td>...</td>\n",
       "    </tr>\n",
       "    <tr>\n",
       "      <th>86</th>\n",
       "      <td>770</td>\n",
       "      <td>856</td>\n",
       "      <td>212</td>\n",
       "      <td>278</td>\n",
       "      <td>116</td>\n",
       "      <td>832</td>\n",
       "      <td>153</td>\n",
       "      <td>424</td>\n",
       "      <td>285</td>\n",
       "      <td>717</td>\n",
       "      <td>805</td>\n",
       "    </tr>\n",
       "    <tr>\n",
       "      <th>87</th>\n",
       "      <td>699</td>\n",
       "      <td>883</td>\n",
       "      <td>209</td>\n",
       "      <td>191</td>\n",
       "      <td>121</td>\n",
       "      <td>649</td>\n",
       "      <td>134</td>\n",
       "      <td>424</td>\n",
       "      <td>273</td>\n",
       "      <td>644</td>\n",
       "      <td>774</td>\n",
       "    </tr>\n",
       "    <tr>\n",
       "      <th>88</th>\n",
       "      <td>738</td>\n",
       "      <td>773</td>\n",
       "      <td>227</td>\n",
       "      <td>171</td>\n",
       "      <td>104</td>\n",
       "      <td>492</td>\n",
       "      <td>111</td>\n",
       "      <td>384</td>\n",
       "      <td>306</td>\n",
       "      <td>730</td>\n",
       "      <td>859</td>\n",
       "    </tr>\n",
       "    <tr>\n",
       "      <th>89</th>\n",
       "      <td>749</td>\n",
       "      <td>824</td>\n",
       "      <td>188</td>\n",
       "      <td>146</td>\n",
       "      <td>98</td>\n",
       "      <td>442</td>\n",
       "      <td>120</td>\n",
       "      <td>305</td>\n",
       "      <td>645</td>\n",
       "      <td>717</td>\n",
       "      <td>898</td>\n",
       "    </tr>\n",
       "    <tr>\n",
       "      <th>90</th>\n",
       "      <td>479</td>\n",
       "      <td>486</td>\n",
       "      <td>132</td>\n",
       "      <td>108</td>\n",
       "      <td>23</td>\n",
       "      <td>313</td>\n",
       "      <td>81</td>\n",
       "      <td>213</td>\n",
       "      <td>142</td>\n",
       "      <td>404</td>\n",
       "      <td>575</td>\n",
       "    </tr>\n",
       "  </tbody>\n",
       "</table>\n",
       "<p>91 rows × 11 columns</p>\n",
       "</div>"
      ],
      "text/plain": [
       "    CRM  CloudDrive  ERP  Expenses  HR1  HR2  ITOps  OTHER  Recruiting  \\\n",
       "0    49          99   17        38    0    0     18    144          33   \n",
       "1   107         148   28        54    0    0     38    188          30   \n",
       "2   639         796  221       216    0    0    133   1175         297   \n",
       "3   653         767  203       191    0    0    139   1475         308   \n",
       "4   670         738  196       140    0    0    128   1111         305   \n",
       "..  ...         ...  ...       ...  ...  ...    ...    ...         ...   \n",
       "86  770         856  212       278  116  832    153    424         285   \n",
       "87  699         883  209       191  121  649    134    424         273   \n",
       "88  738         773  227       171  104  492    111    384         306   \n",
       "89  749         824  188       146   98  442    120    305         645   \n",
       "90  479         486  132       108   23  313     81    213         142   \n",
       "\n",
       "    Webmail  RemoteAccess  \n",
       "0       141           283  \n",
       "1       213           430  \n",
       "2       579           732  \n",
       "3       549           738  \n",
       "4       678           781  \n",
       "..      ...           ...  \n",
       "86      717           805  \n",
       "87      644           774  \n",
       "88      730           859  \n",
       "89      717           898  \n",
       "90      404           575  \n",
       "\n",
       "[91 rows x 11 columns]"
      ]
     },
     "execution_count": 2,
     "metadata": {},
     "output_type": "execute_result"
    }
   ],
   "source": [
    "# Read in app_usage data into vpn_df\n",
    "csv = pd.read_csv(\"app_usage.csv\")\n",
    "vpn_df= pd.DataFrame(csv)\n",
    "vpn_df"
   ]
  },
  {
   "cell_type": "code",
   "execution_count": 3,
   "metadata": {},
   "outputs": [
    {
     "name": "stdout",
     "output_type": "stream",
     "text": [
      "(91, 11)\n",
      "Index(['CRM', 'CloudDrive', 'ERP', 'Expenses', 'HR1', 'HR2', 'ITOps', 'OTHER',\n",
      "       'Recruiting', 'Webmail', 'RemoteAccess'],\n",
      "      dtype='object')\n",
      "   CRM  CloudDrive  ERP  Expenses  HR1  HR2  ITOps  OTHER  Recruiting  \\\n",
      "0   49          99   17        38    0    0     18    144          33   \n",
      "1  107         148   28        54    0    0     38    188          30   \n",
      "2  639         796  221       216    0    0    133   1175         297   \n",
      "3  653         767  203       191    0    0    139   1475         308   \n",
      "4  670         738  196       140    0    0    128   1111         305   \n",
      "\n",
      "   Webmail  RemoteAccess  \n",
      "0      141           283  \n",
      "1      213           430  \n",
      "2      579           732  \n",
      "3      549           738  \n",
      "4      678           781  \n"
     ]
    }
   ],
   "source": [
    "# RemoteAccess is the target, we will build a model that \n",
    "# takes all other columns as X to predict remote VPN usage\n",
    "\n",
    "# Look at the shape of the dataframe\n",
    "print(vpn_df.shape)\n",
    "\n",
    "# Look at the column names\n",
    "print(vpn_df.columns)\n",
    "\n",
    "# Show the first 5 records\n",
    "print(vpn_df.head(5))"
   ]
  },
  {
   "cell_type": "code",
   "execution_count": 5,
   "metadata": {},
   "outputs": [
    {
     "data": {
      "text/plain": [
       "[Text(0, 0.5, 'Numbers'), Text(0.5, 0, 'VPN Access')]"
      ]
     },
     "execution_count": 5,
     "metadata": {},
     "output_type": "execute_result"
    },
    {
     "data": {
      "image/png": "[encoded data removed]",
      "text/plain": [
       "<Figure size 432x288 with 1 Axes>"
      ]
     },
     "metadata": {
      "needs_background": "light"
     },
     "output_type": "display_data"
    }
   ],
   "source": [
    "# Visualize data\n",
    "list_to_plot=[]\n",
    "for col in vpn_df.columns:\n",
    "    for val in vpn_df[col]:\n",
    "        list_to_plot.append(val)\n",
    "        \n",
    "ax = sns.distplot(list_to_plot, bins=10, kde=False)\n",
    "ax.set(xlabel=\"VPN Access\", ylabel=\"Numbers\")"
   ]
  },
  {
   "cell_type": "code",
   "execution_count": 6,
   "metadata": {},
   "outputs": [
    {
     "data": {
      "image/png": "[encoded data removed]",
      "text/plain": [
       "<Figure size 576x432 with 2 Axes>"
      ]
     },
     "metadata": {
      "needs_background": "light"
     },
     "output_type": "display_data"
    }
   ],
   "source": [
    "# Correlation heat map\n",
    "corrmat = vpn_df.corr()\n",
    "\n",
    "f, ax = plt.subplots(figsize=(8,6))\n",
    "sns.heatmap(corrmat, vmax=.8, square=True, annot=True, cmap=\"RdBu_r\")\n",
    "\n",
    "f.tight_layout()"
   ]
  },
  {
   "cell_type": "code",
   "execution_count": 7,
   "metadata": {},
   "outputs": [],
   "source": [
    "# We determine that this is supervised machine learning problem\n",
    "# Linear Regression can be a good model\n",
    "from sklearn import linear_model"
   ]
  },
  {
   "cell_type": "code",
   "execution_count": 8,
   "metadata": {},
   "outputs": [],
   "source": [
    "# The function takes X, y and retrun the trained model and R squared\n",
    "def train_model(X,y):\n",
    "    model = linear_model.LinearRegression()\n",
    "    model.fit(X, y)\n",
    "    R_2 = model.score(X,y)\n",
    "    return model, R_2\n",
    "# Create a function to calculate Adjusted R_square\n",
    "# n is the number of sample, p is the number features\n",
    "def cal_adjusted_R(R_2, p, n):\n",
    "    R_adjusted = R_2-(1-R_2)*(p/(n-p-1))\n",
    "    return R_adjusted"
   ]
  },
  {
   "cell_type": "code",
   "execution_count": 9,
   "metadata": {},
   "outputs": [
    {
     "name": "stdout",
     "output_type": "stream",
     "text": [
      "CRM :  0.9030603942302714\n",
      "CloudDrive :  0.8932567722424455\n",
      "ERP :  0.7904301126742891\n",
      "Expenses :  0.6232665636003503\n",
      "HR1 :  0.015308027253735923\n",
      "HR2 :  0.41428585591006056\n",
      "ITOps :  0.7566204951691912\n",
      "OTHER :  0.3268756160241403\n",
      "Recruiting :  0.24953322751414383\n",
      "Webmail :  0.8847819743305698\n",
      "The order of index numbers are : \t [0 1 9 2 6 3 5 7 8 4]\n"
     ]
    }
   ],
   "source": [
    "# R_2_array stores the R squared of all the features\n",
    "R_2_array = np.array([])\n",
    "\n",
    "# Calcuate the R_squared \n",
    "for col_name in vpn_df.columns:\n",
    "    if col_name == 'RemoteAccess':\n",
    "        continue\n",
    "    else:    \n",
    "        \n",
    "        X_feature = vpn_df[[(col_name)]]\n",
    "        target = vpn_df[['RemoteAccess']]\n",
    "        model, R_2 = train_model(X_feature,target)\n",
    "        print(col_name + \" : \", R_2)\n",
    "        R_2_array = np.append(R_2_array, R_2)      \n",
    "           \n",
    "sorted_R_2_index = np.argsort(R_2_array)[::-1]       \n",
    "\n",
    "print(\"The order of index numbers are : \\t\", sorted_R_2_index)"
   ]
  },
  {
   "cell_type": "code",
   "execution_count": 10,
   "metadata": {},
   "outputs": [
    {
     "name": "stdout",
     "output_type": "stream",
     "text": [
      "['CRM']\n",
      "R2:  0.9030603942302714 \t Ajusted R2:  0.901971185176679 \n",
      "\n",
      "['CRM', 'CloudDrive']\n",
      "R2:  0.9074773125587101 \t Ajusted R2:  0.9053745242077718 \n",
      "\n",
      "['CRM', 'CloudDrive', 'Webmail']\n",
      "R2:  0.9169720723523399 \t Ajusted R2:  0.9141090403644896 \n",
      "\n",
      "['CRM', 'CloudDrive', 'Webmail', 'ERP']\n",
      "R2:  0.9243104820063341 \t Ajusted R2:  0.9207900393089543 \n",
      "\n",
      "['CRM', 'CloudDrive', 'Webmail', 'ERP', 'ITOps']\n",
      "R2:  0.9245040709947892 \t Ajusted R2:  0.9200631339944826 \n",
      "\n",
      "['CRM', 'CloudDrive', 'Webmail', 'ERP', 'ITOps', 'Expenses']\n",
      "R2:  0.9261180813990765 \t Ajusted R2:  0.9208408014990105 \n",
      "\n",
      "['CRM', 'CloudDrive', 'Webmail', 'ERP', 'ITOps', 'Expenses', 'HR2']\n",
      "R2:  0.9268374090661093 \t Ajusted R2:  0.9206670700716848 \n",
      "\n",
      "['CRM', 'CloudDrive', 'Webmail', 'ERP', 'ITOps', 'Expenses', 'HR2', 'OTHER']\n",
      "R2:  0.9303318238786104 \t Ajusted R2:  0.9235349286472553 \n",
      "\n",
      "['CRM', 'CloudDrive', 'Webmail', 'ERP', 'ITOps', 'Expenses', 'HR2', 'OTHER', 'Recruiting']\n",
      "R2:  0.9305073579887443 \t Ajusted R2:  0.922785953320827 \n",
      "\n",
      "['CRM', 'CloudDrive', 'Webmail', 'ERP', 'ITOps', 'Expenses', 'HR2', 'OTHER', 'Recruiting', 'HR1']\n",
      "R2:  0.9392847759700534 \t Ajusted R2:  0.9316953729663101 \n",
      "\n"
     ]
    }
   ],
   "source": [
    "# Gradually build up our model and add R squared and adjusted R to the output\n",
    "for i in range(len(sorted_R_2_index)):\n",
    "    \n",
    "    # The selected_features should be the top i most associated features\n",
    "    selected_features = []\n",
    "    \n",
    "    # Take the top 1 to ith features as X\n",
    "    for j in range(i+1):\n",
    "        \n",
    "            # Append a new column based on the sorted R value\n",
    "            selected_features.append(vpn_df.columns[sorted_R_2_index[j]])\n",
    "            \n",
    "    # Verify we got the right features\n",
    "    print(selected_features)\n",
    "    \n",
    "    # X\n",
    "    X_feature = vpn_df[selected_features]\n",
    "    \n",
    "    # y\n",
    "    target = vpn_df[['RemoteAccess']]\n",
    "    \n",
    "    # Train the model\n",
    "    model, R_2 = train_model(X_feature, target)\n",
    "    \n",
    "    # Calculate adjusted R\n",
    "    R_adjusted = cal_adjusted_R(R_2, i+1, vpn_df.shape[0])\n",
    "\n",
    "    print(\"R2: \", R_2, \"\\t Ajusted R2: \", R_adjusted, \"\\n\")"
   ]
  },
  {
   "cell_type": "code",
   "execution_count": 11,
   "metadata": {},
   "outputs": [
    {
     "name": "stdout",
     "output_type": "stream",
     "text": [
      "Intercept: \n",
      " 168.76868273498133\n",
      "Coefficients: \n",
      " [ 0.78030166  0.02552479 -0.3614915  -0.22380617 -0.14305536 -0.02601244\n",
      " -0.14498212 -0.01503002  0.02986555  0.32726658]\n",
      "R_squared: \n",
      " 0.9392847759700534\n"
     ]
    }
   ],
   "source": [
    "# Build the model with all the features\n",
    "\n",
    "y = vpn_df['RemoteAccess']\n",
    "X = vpn_df.drop('RemoteAccess', 1)\n",
    "\n",
    "from sklearn import linear_model\n",
    "\n",
    "# Create a linear regression model from linear_model package \n",
    "model=linear_model.LinearRegression()\n",
    "\n",
    "# Train the model with our data (X, y)\n",
    "model.fit(X,y)\n",
    "\n",
    "# Display the parameters\n",
    "print('Intercept: \\n', model.intercept_)\n",
    "print('Coefficients: \\n', model.coef_)\n",
    "\n",
    "# Use R squared to see how much variation is explained by the trained model\n",
    "print('R_squared: \\n', model.score(X,y))"
   ]
  },
  {
   "cell_type": "code",
   "execution_count": 12,
   "metadata": {},
   "outputs": [
    {
     "data": {
      "text/html": [
       "\n",
       "        <iframe\n",
       "            width=\"1200\"\n",
       "            height=\"300\"\n",
       "            src=\"http://abbottanalytics.blogspot.com/2004/12/find-correlated-variables-prior-to.html\"\n",
       "            frameborder=\"0\"\n",
       "            allowfullscreen\n",
       "        ></iframe>\n",
       "        "
      ],
      "text/plain": [
       "<IPython.lib.display.IFrame at 0x7f5ab4d3fe50>"
      ]
     },
     "execution_count": 12,
     "metadata": {},
     "output_type": "execute_result"
    }
   ],
   "source": [
    "# Should we reduce the number of features? \n",
    "from IPython.display import IFrame\n",
    "IFrame('http://abbottanalytics.blogspot.com/2004/12/find-correlated-variables-prior-to.html', width=1200, height=300)"
   ]
  },
  {
   "cell_type": "code",
   "execution_count": 13,
   "metadata": {},
   "outputs": [
    {
     "name": "stdout",
     "output_type": "stream",
     "text": [
      "The best R of my 3-feature model is:\t\t 0.9169720723523399\n",
      "The alpha I used in Lasso to find my model is: \t 0.2\n",
      "R_squared: \n",
      " 0.9169720723523399\n"
     ]
    }
   ],
   "source": [
    "# Modify the following code to remove the features you feel necessary\n",
    "y = vpn_df['RemoteAccess']\n",
    "X = vpn_df.drop(['RemoteAccess', 'ERP', 'Expenses', 'HR1', 'HR2', 'OTHER', 'Recruiting', 'ITOps'], 1)\n",
    "features_kept = ['CRM', 'CloudDrive', 'Webmail']\n",
    "\n",
    "# We use Lasso to further penalize models with more features\n",
    "from sklearn.linear_model import Lasso\n",
    "\n",
    "# In Lasso, the score is still R squared \n",
    "best_score = 0\n",
    "\n",
    "# Lasso has a parameter alpha used to adjust the level of penalizing the \n",
    "# number of features. A bigger alpha will produce less features. \n",
    "# We initiate the best alpha to 0 \n",
    "best_alpha = 0 \n",
    "\n",
    "# Fine tune alpha to find the model we need \n",
    "for alpha in np.linspace(1,0.2, 1000):\n",
    "    \n",
    "    # Create a linear regression (Lasso) model from linear_model package \n",
    "    model=Lasso(alpha=alpha,normalize=True, max_iter=1e5)\n",
    "\n",
    "    # Train the model with our data (X, y)\n",
    "    model.fit(X,y)\n",
    "\n",
    "    X_feature = vpn_df[features_kept]\n",
    "    target = vpn_df[['RemoteAccess']]\n",
    "    model, R_2 = train_model(X_feature, target)\n",
    "\n",
    "best_alpha = alpha\n",
    "best_score = R_2\n",
    "            \n",
    "print(\"The best R of my 3-feature model is:\\t\\t\", best_score)\n",
    "print(\"The alpha I used in Lasso to find my model is: \\t\", best_alpha)\n",
    "\n",
    "# Use R squared to see how much variation is explained by the trained model\n",
    "print('R_squared: \\n', model.score(X,y))"
   ]
  },
  {
   "cell_type": "markdown",
   "metadata": {
    "collapsed": true
   },
   "source": [
    "### Summarize how you eliminated some features. Which 3 features are in your model. Compare the R squared value of your model with one using all the features, explain why your model is a reasonably better model. "
   ]
  },
  {
   "cell_type": "code",
   "execution_count": 14,
   "metadata": {},
   "outputs": [
    {
     "name": "stdout",
     "output_type": "stream",
     "text": [
      "My summary: First, the idea is to remove values that are highly correlated. We only need one of those values in our model for it to be reflected. Based on this, I removed all features that had high correlations and that already had representation through other features. The features CRM, CloudDrive, and Webmail all provided the values necessary and including the other features was, in a sense, redundant for the model. Using this process, we find that the best alpha and R of the 3 feature model occurred with the previously stated features, and has a R of 0.91697 and an alpha of 0.2.\n",
      "The 3 features in my model are:   ['CRM', 'CloudDrive', 'Webmail']\n"
     ]
    }
   ],
   "source": [
    "# Summary\n",
    "print(\"My summary: First, the idea is to remove values that are highly correlated. We only need one of those values \"\n",
    "     + \"in our model for it to be reflected. Based on this, I removed all features that had high correlations and that \"\n",
    "     + \"already had representation through other features. The features CRM, CloudDrive, and Webmail all provided the \"\n",
    "     + \"values necessary and including the other features was, in a sense, redundant for the model. \"\n",
    "     + \"Using this process, we find that the best alpha and R of the 3 feature model occurred with the previously stated \"\n",
    "     + \"features, and has a R of 0.91697 and an alpha of 0.2.\")\n",
    "      \n",
    "print(\"The 3 features in my model are:  \", features_kept)"
   ]
  }
 ],
 "metadata": {
  "kernelspec": {
   "display_name": "Python 3",
   "language": "python",
   "name": "python3"
  },
  "language_info": {
   "codemirror_mode": {
    "name": "ipython",
    "version": 3
   },
   "file_extension": ".py",
   "mimetype": "text/x-python",
   "name": "python",
   "nbconvert_exporter": "python",
   "pygments_lexer": "ipython3",
   "version": "3.7.6"
  }
 },
 "nbformat": 4,
 "nbformat_minor": 1
}
